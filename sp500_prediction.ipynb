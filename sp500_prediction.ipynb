{
 "cells": [
  {
   "cell_type": "markdown",
   "id": "0c17b9aa-b55e-4b36-9c8a-58ab3f91f07d",
   "metadata": {},
   "source": [
    "# S&P 500 Direction Prediction using Machine Learning\n",
    "\n",
    "## Overview\n",
    "This project uses historical S&P 500 data and technical indicators to predict market direction using XGBoost.\n",
    "\n",
    "## Data\n",
    "- Source: Yahoo Finance\n",
    "- Ticker: ^GSPC (S&P 500)"
   ]
  },
  {
   "cell_type": "code",
   "execution_count": 1,
   "id": "7f333494-c618-4c7c-9a21-9fb7aa7fbb95",
   "metadata": {},
   "outputs": [],
   "source": [
    "import yfinance as yf\n",
    "import numpy as np\n",
    "import ta\n",
    "import matplotlib.pyplot as plt\n",
    "import pandas as pd\n",
    "from sklearn.metrics import precision_score\n",
    "from xgboost import XGBClassifier"
   ]
  },
  {
   "cell_type": "code",
   "execution_count": 2,
   "id": "93478322-e67f-4875-bac0-3b1c012545c5",
   "metadata": {},
   "outputs": [],
   "source": [
    "sp500 = yf.Ticker(\"^GSPC\")"
   ]
  },
  {
   "cell_type": "code",
   "execution_count": 3,
   "id": "9ba3b670-0719-4edf-bae1-26b46a6ac4b8",
   "metadata": {},
   "outputs": [],
   "source": [
    "sp500 = sp500.history(period=\"max\")"
   ]
  },
  {
   "cell_type": "code",
   "execution_count": 4,
   "id": "f4f1d863-e388-4ddb-9683-30c1458beda2",
   "metadata": {},
   "outputs": [],
   "source": [
    "sp500 = sp500.loc[\"1990-01-01\":].copy()"
   ]
  },
  {
   "cell_type": "code",
   "execution_count": 5,
   "id": "5c2cf325-68ec-492b-991b-854b92509b7c",
   "metadata": {},
   "outputs": [],
   "source": [
    "sp500.drop(columns=[\"Dividends\", \"Stock Splits\"], errors=\"ignore\", inplace=True)\n"
   ]
  },
  {
   "cell_type": "code",
   "execution_count": 8,
   "id": "4b002c5b-abe1-42e9-95ab-3d4e28f105e0",
   "metadata": {},
   "outputs": [
    {
     "data": {
      "text/plain": [
       "<Axes: xlabel='Date'>"
      ]
     },
     "execution_count": 8,
     "metadata": {},
     "output_type": "execute_result"
    },
    {
     "data": {
      "image/png": "[encoded data removed]",
      "text/plain": [
       "<Figure size 640x480 with 1 Axes>"
      ]
     },
     "metadata": {},
     "output_type": "display_data"
    }
   ],
   "source": [
    "sp500.plot.line(y=\"Close\",use_index=True)"
   ]
  },
  {
   "cell_type": "markdown",
   "id": "9741f06c-c1f6-4a56-8426-396b2c15c88d",
   "metadata": {},
   "source": [
    "## Features\n",
    "- Technical indicators: RSI, MACD, SMA, Volatility\n",
    "- Lag features\n",
    "- Rolling averages\n",
    "- Time-based features"
   ]
  },
  {
   "cell_type": "code",
   "execution_count": 9,
   "id": "416bfea3-ec3b-4b04-9ed2-f3a0ea2ff9b7",
   "metadata": {},
   "outputs": [],
   "source": [
    "sp500[\"RSI\"] = ta.momentum.RSIIndicator(close=sp500[\"Close\"]).rsi()"
   ]
  },
  {
   "cell_type": "code",
   "execution_count": 10,
   "id": "478ba9f7-8103-4925-aff2-dc74520d6000",
   "metadata": {},
   "outputs": [],
   "source": [
    "sp500[\"MACD\"] = ta.trend.MACD(close=sp500[\"Close\"]).macd()"
   ]
  },
  {
   "cell_type": "code",
   "execution_count": 11,
   "id": "0bc42788-29d8-40cd-a3f1-b9e72317452d",
   "metadata": {},
   "outputs": [],
   "source": [
    "sp500[\"SMA_50\"] = sp500[\"Close\"].rolling(50).mean()"
   ]
  },
  {
   "cell_type": "code",
   "execution_count": 12,
   "id": "f8ee4672-ab60-4956-80d5-98d106dd4051",
   "metadata": {},
   "outputs": [],
   "source": [
    "sp500[\"SMA_200\"] = sp500[\"Close\"].rolling(200).mean()"
   ]
  },
  {
   "cell_type": "code",
   "execution_count": 13,
   "id": "f8641a76-121b-4325-9efe-eb410ac28032",
   "metadata": {},
   "outputs": [],
   "source": [
    "sp500[\"Volatility_20\"] = sp500[\"Close\"].rolling(20).std()"
   ]
  },
  {
   "cell_type": "code",
   "execution_count": 14,
   "id": "cad86573-a64b-4f8f-90e0-c28737df78e3",
   "metadata": {},
   "outputs": [],
   "source": [
    "for lag in range(1, 6):\n",
    "    sp500[f\"Close_Lag_{lag}\"] = sp500[\"Close\"].shift(lag)\n",
    "    sp500[f\"Volume_Lag_{lag}\"] = sp500[\"Volume\"].shift(lag)"
   ]
  },
  {
   "cell_type": "code",
   "execution_count": 15,
   "id": "90fafe4a-73bd-43b8-bb5e-e74904381089",
   "metadata": {},
   "outputs": [],
   "source": [
    "sp500[\"5_Day_Future\"] = sp500[\"Close\"].shift(-5)"
   ]
  },
  {
   "cell_type": "code",
   "execution_count": 16,
   "id": "5fb5905f-4d9b-43e2-8643-98592fe95765",
   "metadata": {},
   "outputs": [],
   "source": [
    "sp500[\"Target\"] = (sp500[\"5_Day_Future\"] > sp500[\"Close\"]).astype(int)"
   ]
  },
  {
   "cell_type": "code",
   "execution_count": 17,
   "id": "9e546fa1-1da5-4ae0-87fb-76fa43d587e5",
   "metadata": {},
   "outputs": [],
   "source": [
    "sp500 = sp500.dropna().copy()"
   ]
  },
  {
   "cell_type": "code",
   "execution_count": 18,
   "id": "7690678a-fe88-4776-a039-29c6968a9195",
   "metadata": {},
   "outputs": [],
   "source": [
    "predictors = [\"Close\", \"Open\", \"High\", \"Low\", \"Volume\",\n",
    "    \"RSI\", \"MACD\", \"SMA_50\", \"SMA_200\", \"Volatility_20\",\n",
    "    \"Close_Lag_1\", \"Close_Lag_2\", \"Close_Lag_3\", \"Close_Lag_4\", \"Close_Lag_5\",\n",
    "    \"Volume_Lag_1\", \"Volume_Lag_2\", \"Volume_Lag_3\", \"Volume_Lag_4\", \"Volume_Lag_5\"]"
   ]
  },
  {
   "cell_type": "markdown",
   "id": "3b3e88a4-9dee-4763-8579-9a3b63d2fe89",
   "metadata": {},
   "source": [
    "## Model\n",
    "- XGBoostClassifier"
   ]
  },
  {
   "cell_type": "code",
   "execution_count": 31,
   "id": "cf6bbab4-f2a8-4d09-b2d3-4650308d4f74",
   "metadata": {},
   "outputs": [],
   "source": [
    "model = XGBClassifier(\n",
    "    n_estimators=275,\n",
    "    max_depth=4,\n",
    "    learning_rate=0.035,\n",
    "    eval_metric=\"logloss\",\n",
    "    random_state=1)"
   ]
  },
  {
   "cell_type": "code",
   "execution_count": 32,
   "id": "945bae23-020f-4d1e-9e36-33e88aaa54f9",
   "metadata": {},
   "outputs": [],
   "source": [
    "def predict(train, test, predictors, model, threshold = 0.6):\n",
    "    model.fit(train[predictors], train[\"Target\"])\n",
    "    probs = model.predict_proba(test[predictors])[:, 1]\n",
    "    preds = (probs >= threshold).astype(int)\n",
    "    preds = pd.Series(preds, index=test.index, name=\"Predictions\")\n",
    "    combined = pd.concat([test[\"Target\"], preds], axis=1)\n",
    "    return combined\n",
    "    "
   ]
  },
  {
   "cell_type": "code",
   "execution_count": 33,
   "id": "81d88643-f92f-4927-b931-c3cfcdc1cfde",
   "metadata": {},
   "outputs": [],
   "source": [
    "def backtest(data, model, predictors, start=2500, step=250,threshold=0.6):\n",
    "    all_predictions = []\n",
    "    for i in range(start, data.shape[0], step):\n",
    "        train = data.iloc[0:i].copy()\n",
    "        test = data.iloc[i:(i+step)].copy()\n",
    "        predictions = predict(train, test, predictors, model, threshold)\n",
    "        all_predictions.append(predictions)\n",
    "    return pd.concat(all_predictions)"
   ]
  },
  {
   "cell_type": "code",
   "execution_count": 36,
   "id": "2f18666a-04d8-49ec-8459-9641fdf00ad7",
   "metadata": {
    "scrolled": true
   },
   "outputs": [],
   "source": [
    "predictions = backtest(sp500, model, predictors)"
   ]
  },
  {
   "cell_type": "code",
   "execution_count": 37,
   "id": "d13a805e-c02e-48b1-977b-8a46c084d969",
   "metadata": {},
   "outputs": [
    {
     "data": {
      "text/plain": [
       "Predictions\n",
       "0    3864\n",
       "1    2377\n",
       "Name: count, dtype: int64"
      ]
     },
     "execution_count": 37,
     "metadata": {},
     "output_type": "execute_result"
    }
   ],
   "source": [
    "predictions[\"Predictions\"].value_counts() "
   ]
  },
  {
   "cell_type": "code",
   "execution_count": 38,
   "id": "423aa9e8-d54a-4041-a6da-40ce21356f5e",
   "metadata": {},
   "outputs": [
    {
     "name": "stdout",
     "output_type": "stream",
     "text": [
      "\n",
      "Base Rate:\n",
      " Target\n",
      "1    0.572504\n",
      "0    0.427496\n",
      "Name: count, dtype: float64\n"
     ]
    }
   ],
   "source": [
    "print(\"\\nBase Rate:\\n\", predictions[\"Target\"].value_counts() / predictions.shape[0])"
   ]
  },
  {
   "cell_type": "markdown",
   "id": "a5ac4623-0604-44ea-9e5e-42d2825d500f",
   "metadata": {},
   "source": [
    "## Precision\n",
    "- 57.0%"
   ]
  },
  {
   "cell_type": "code",
   "execution_count": 39,
   "id": "2ed23177-a541-4546-8f7a-408955d81a94",
   "metadata": {},
   "outputs": [
    {
     "name": "stdout",
     "output_type": "stream",
     "text": [
      "Precision: 0.5700\n"
     ]
    }
   ],
   "source": [
    "precision = precision_score(predictions[\"Target\"], predictions[\"Predictions\"])\n",
    "print(f\"Precision: {precision:.4f}\")"
   ]
  },
  {
   "cell_type": "markdown",
   "id": "3ca8b2a1-f05a-4a3b-9e64-b54cb307809b",
   "metadata": {},
   "source": [
    "## Tommorow's Prediction"
   ]
  },
  {
   "cell_type": "code",
   "execution_count": 41,
   "id": "47f3113c-1381-4eb1-a287-324a47c9a369",
   "metadata": {},
   "outputs": [
    {
     "name": "stdout",
     "output_type": "stream",
     "text": [
      "➡️ Tomorrow's Prediction: UP\n",
      "📈 Probability of UP: 0.662\n",
      "📉 Probability of DOWN: 0.338\n"
     ]
    }
   ],
   "source": [
    "latest_features = sp500[feature_columns].iloc[-1:].copy()\n",
    "\n",
    "tomorrow_prediction = model.predict(latest_features)[0]\n",
    "tomorrow_proba = model.predict_proba(latest_features)[0]\n",
    "\n",
    "print(\"➡️ Tomorrow's Prediction:\", \"UP\" if tomorrow_prediction == 1 else \"DOWN\")\n",
    "print(f\"📈 Probability of UP: {tomorrow_proba[1]:.3f}\")\n",
    "print(f\"📉 Probability of DOWN: {tomorrow_proba[0]:.3f}\")\n"
   ]
  },
  {
   "cell_type": "markdown",
   "id": "64da9b58-2827-406b-90a1-18236c634564",
   "metadata": {},
   "source": [
    "## Key Takeaways\n",
    "- Outperformed random guessing\n",
    "- Framework for trading simulation"
   ]
  }
 ],
 "metadata": {
  "kernelspec": {
   "display_name": "Python 3 (ipykernel)",
   "language": "python",
   "name": "python3"
  },
  "language_info": {
   "codemirror_mode": {
    "name": "ipython",
    "version": 3
   },
   "file_extension": ".py",
   "mimetype": "text/x-python",
   "name": "python",
   "nbconvert_exporter": "python",
   "pygments_lexer": "ipython3",
   "version": "3.12.5"
  }
 },
 "nbformat": 4,
 "nbformat_minor": 5
}
